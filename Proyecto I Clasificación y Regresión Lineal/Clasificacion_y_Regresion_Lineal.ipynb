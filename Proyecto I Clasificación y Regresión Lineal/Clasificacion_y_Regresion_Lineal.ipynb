{
 "cells": [
  {
   "cell_type": "markdown",
   "metadata": {},
   "source": [
    "# Clasificación y Regresión Lineal\n",
    "\n",
    "Para este proyecto se resolverá un ejercicio de clasificación y uno de regresión lineal. Por favor siga las indicaciones para cada uno de los proyectos. El informe se debe entregar en un notebook de jupyter, donde se explique claramente cada uno de los procesos realizados junto con su justificación, de ser necesario. La entrega se puede hacer en grupos de dos personas. Recuerde que para los próximos proyectos los grupos no pueden ser los mismos. La entrega se debe realizar a más tardar el día **10 de septiembre del 2024, a las 11:59 p.m.** utilziando el link habilitado en la plataforma Teams. También tenga en cuenta que el nombre de los integrantes del equipo debe estar debidamente marcado. Es responsabilidad de ambos miembros del equipo verificar que su nombre este indicado. Si por alguna razón el notebook no tiene ningún nombre o hace falta un nombre, se colocará un cero a la persona cuyo nombre no este en la entrega.\n",
    "\n",
    "\n",
    "## Clasificación lineal: MNIST\n",
    "\n",
    "La base de datos MNIST se considera un ejercicio clasico en el área de machine learning. Esta base de datos cuenta con un conjunto de imagenes de digitos manuscritos desde el 0 hasta el 9, la cual se encuentra en en la libreria de scikit-learn. Información sobre el dataset la pueden encontrar [aquí](http://yann.lecun.com/exdb/mnist/), mientras que una explicación sobre la función en python, especificamente la libreria sci-kit learn, pueden encontrarla [aquí](https://scikit-learn.org/stable/modules/generated/sklearn.datasets.load_digits.html). Está base de dato tiene imagénes de carácteres escritos desde el 0 hasta el 9. El profesor Alexander quiere que ustedes utilicen sus conocimientos en Machine Learning para resolver este problema.\n",
    "\n",
    "Para este problema deben realizar las siguientes tareas:\n",
    "\n",
    "1. Cargen los datos *digits* de la librería scikit learn. -yo\n",
    "2. Realicen un análisis descriptivo de la información contenida en las imagenes. Grafiquen los números, discutan sobre sus carácteristicas y demás información que consideren importante. -yo\n",
    "3. Implementen un clasificador usando KNN. Determine una forma de evaluar el rendimiento de este clasificador para diferentes valores de K. -yo\n",
    "4. Implemente un clasificador utilizando regresión logística. Para esto desarrolle 10 clasificadores diferentes (porque se tienen 10 clases). Implemente la función de decisión de clase, escogiendo como clase la salida correspondiente al clasificador con mayor probabilidad.\n",
    "5. Para cada uno de los 10 clasificadores, ubique los $\\theta_i$, para $i\\neq 0$,  en una matriz siguiendo el mismo orden que las matrices de los datos de entrenamiento, y realice un mapa de calor para cada clasificador, indicando la clase que detecta.\n",
    "6. Implemente un clasificador multinomial utilizando funciones de scikit-learn.-yo\n",
    "7. Compare los resultados.\n",
    "\n",
    "Como el objetivo es evaluar sus conocimientos en clasificación, deben responder las siguientes preguntas:\n",
    "\n",
    "1. ¿Qué influencia tiene el uso de diferentes valores de K en el clasificador KNN?-yo\n",
    "2. ¿Qué diferencias hay entre el clasificador utilizando KNN y regresión logística? ¿Funciona uno mejor que otro?, ¿Porqué?- ambos\n",
    "3. ¿El clasificador de regresión logistica presenta un buen rendimiento? ¿Cómo evaluan su rendimiento?¿Si el rendimiento no es bueno que cree se debe hacer para mejorarlo?\n",
    "4. Al realizar el mapa de calor con los pesos de la regresión logística, para los diferentes clasificadores, ¿Qué puede notar? ¿Hay algun tipo de patrón?, ¿Sí, no, porqué?\n",
    "5. ¿Qué puede concluir al final de este proyecto?, escriba su opinión frente a los metodos de clasificación y como se aplicó en este proyecto.-yo\n",
    "\n",
    "## Regresión Lineal: Datos artificiales\n",
    "\n",
    "En el archivo .csv adjunto se encuentra una base de datos creada artificialmente, donde la salida es una funcion de dos variables, es decir $y^{(i)} = f\\left(x_1^{(i)},x_2^{(i)}\\right)+\\eta^{(i)}$, donde $\\eta$ respresenta el error de medición. El objetivo de este problema es que lo resuelvan utilizando regresión lineal y los conocimientos obtenidos en clase.\n",
    "\n",
    "Para solucionar este problema deben realizar las siguientes tareas:\n",
    "\n",
    "1. Cargen los datos.\n",
    "2. Realicen un análisis descriptivo de los datos .\n",
    "3. Implementen un modelo de regresión lineal que se ajuste a los datos proporcionados.\n",
    "4. Graffique los datos originales, y los obtenidos por el modelo de regresión que ustedes implementarón.\n",
    "5. Discuta los resultados obtenidos.\n",
    "\n",
    "Como el objetivo es evaluar sus conocimientos en regresión, deben responder las siguientes preguntas:\n",
    "\n",
    "1. ¿Cómo evaluarón que la regresión fuera adecuada?\n",
    "2. ¿Realizarón algún tipo de transformación no lineal a los datos de entrada? Si fue así, ¿Qué transformación realizarón y por qué?\n",
    "3. ¿Considera que lso resultados obtenidos son adecuados, o se pueden mejorar?\n",
    "4. ¿Qué puede concluir al final de este proyecto?, escriba su opinión frente a los metodos de regresión lineal y como se aplicó en este proyecto."
   ]
  },
  {
   "cell_type": "code",
   "execution_count": null,
   "metadata": {},
   "outputs": [],
   "source": []
  }
 ],
 "metadata": {
  "kernelspec": {
   "display_name": "Python 3 (ipykernel)",
   "language": "python",
   "name": "python3"
  },
  "language_info": {
   "codemirror_mode": {
    "name": "ipython",
    "version": 3
   },
   "file_extension": ".py",
   "mimetype": "text/x-python",
   "name": "python",
   "nbconvert_exporter": "python",
   "pygments_lexer": "ipython3",
   "version": "3.12.1"
  }
 },
 "nbformat": 4,
 "nbformat_minor": 4
}
