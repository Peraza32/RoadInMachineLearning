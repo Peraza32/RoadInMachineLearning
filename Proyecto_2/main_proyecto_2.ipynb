{
 "cells": [
  {
   "cell_type": "markdown",
   "id": "a21a480d-c793-4b51-b876-328dcf9f5d36",
   "metadata": {},
   "source": [
    "## Estudiante: Víctor Daniel Peraza Bolaños"
   ]
  },
  {
   "cell_type": "markdown",
   "id": "735f1d3e-7dad-4a87-a8eb-41efebd24b40",
   "metadata": {},
   "source": [
    "## Sistema de recomendación"
   ]
  },
  {
   "cell_type": "markdown",
   "id": "3a96d829-f3ed-452c-8be4-b67bb580d254",
   "metadata": {},
   "source": [
    "## Cuantización de Imágenes"
   ]
  },
  {
   "cell_type": "code",
   "execution_count": null,
   "id": "c708dd49-a73b-4451-85e8-23e0df98f7a7",
   "metadata": {},
   "outputs": [],
   "source": []
  }
 ],
 "metadata": {
  "kernelspec": {
   "display_name": "Python 3 (ipykernel)",
   "language": "python",
   "name": "python3"
  },
  "language_info": {
   "codemirror_mode": {
    "name": "ipython",
    "version": 3
   },
   "file_extension": ".py",
   "mimetype": "text/x-python",
   "name": "python",
   "nbconvert_exporter": "python",
   "pygments_lexer": "ipython3",
   "version": "3.12.1"
  }
 },
 "nbformat": 4,
 "nbformat_minor": 5
}
