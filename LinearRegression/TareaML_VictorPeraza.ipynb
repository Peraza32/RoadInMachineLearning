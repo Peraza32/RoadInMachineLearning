{
 "cells": [
  {
   "cell_type": "code",
   "execution_count": 17,
   "id": "5b8c01db-fd85-4dfe-9679-9a874ec14e23",
   "metadata": {},
   "outputs": [],
   "source": [
    "# Librerias a usar\n",
    "\n",
    "import pandas as pd\n",
    "import numpy as np\n",
    "import matplotlib.pyplot as plt\n",
    "import ipywidgets as widgets\n",
    "\n",
    "%matplotlib inline"
   ]
  },
  {
   "cell_type": "code",
   "execution_count": 3,
   "id": "2e2623dc-616b-44a7-95e7-1240d75047a6",
   "metadata": {},
   "outputs": [
    {
     "data": {
      "text/plain": [
       "(414, 8)"
      ]
     },
     "execution_count": 3,
     "metadata": {},
     "output_type": "execute_result"
    }
   ],
   "source": [
    "# Carga de datos \n",
    "data = pd.read_excel('Real estate valuation data set.xlsx')\n",
    "data.shape"
   ]
  },
  {
   "cell_type": "code",
   "execution_count": 19,
   "id": "996f39e8-8295-4b1d-9287-2af3d7abe261",
   "metadata": {},
   "outputs": [
    {
     "data": {
      "text/html": [
       "<div>\n",
       "<style scoped>\n",
       "    .dataframe tbody tr th:only-of-type {\n",
       "        vertical-align: middle;\n",
       "    }\n",
       "\n",
       "    .dataframe tbody tr th {\n",
       "        vertical-align: top;\n",
       "    }\n",
       "\n",
       "    .dataframe thead th {\n",
       "        text-align: right;\n",
       "    }\n",
       "</style>\n",
       "<table border=\"1\" class=\"dataframe\">\n",
       "  <thead>\n",
       "    <tr style=\"text-align: right;\">\n",
       "      <th></th>\n",
       "      <th>No</th>\n",
       "      <th>X1 transaction date</th>\n",
       "      <th>X2 house age</th>\n",
       "      <th>X3 distance to the nearest MRT station</th>\n",
       "      <th>X4 number of convenience stores</th>\n",
       "      <th>X5 latitude</th>\n",
       "      <th>X6 longitude</th>\n",
       "      <th>Y house price of unit area</th>\n",
       "    </tr>\n",
       "  </thead>\n",
       "  <tbody>\n",
       "    <tr>\n",
       "      <th>0</th>\n",
       "      <td>1</td>\n",
       "      <td>2012.916667</td>\n",
       "      <td>32.0</td>\n",
       "      <td>84.87882</td>\n",
       "      <td>10</td>\n",
       "      <td>24.98298</td>\n",
       "      <td>121.54024</td>\n",
       "      <td>37.9</td>\n",
       "    </tr>\n",
       "    <tr>\n",
       "      <th>1</th>\n",
       "      <td>2</td>\n",
       "      <td>2012.916667</td>\n",
       "      <td>19.5</td>\n",
       "      <td>306.59470</td>\n",
       "      <td>9</td>\n",
       "      <td>24.98034</td>\n",
       "      <td>121.53951</td>\n",
       "      <td>42.2</td>\n",
       "    </tr>\n",
       "    <tr>\n",
       "      <th>2</th>\n",
       "      <td>3</td>\n",
       "      <td>2013.583333</td>\n",
       "      <td>13.3</td>\n",
       "      <td>561.98450</td>\n",
       "      <td>5</td>\n",
       "      <td>24.98746</td>\n",
       "      <td>121.54391</td>\n",
       "      <td>47.3</td>\n",
       "    </tr>\n",
       "    <tr>\n",
       "      <th>3</th>\n",
       "      <td>4</td>\n",
       "      <td>2013.500000</td>\n",
       "      <td>13.3</td>\n",
       "      <td>561.98450</td>\n",
       "      <td>5</td>\n",
       "      <td>24.98746</td>\n",
       "      <td>121.54391</td>\n",
       "      <td>54.8</td>\n",
       "    </tr>\n",
       "    <tr>\n",
       "      <th>4</th>\n",
       "      <td>5</td>\n",
       "      <td>2012.833333</td>\n",
       "      <td>5.0</td>\n",
       "      <td>390.56840</td>\n",
       "      <td>5</td>\n",
       "      <td>24.97937</td>\n",
       "      <td>121.54245</td>\n",
       "      <td>43.1</td>\n",
       "    </tr>\n",
       "    <tr>\n",
       "      <th>5</th>\n",
       "      <td>6</td>\n",
       "      <td>2012.666667</td>\n",
       "      <td>7.1</td>\n",
       "      <td>2175.03000</td>\n",
       "      <td>3</td>\n",
       "      <td>24.96305</td>\n",
       "      <td>121.51254</td>\n",
       "      <td>32.1</td>\n",
       "    </tr>\n",
       "    <tr>\n",
       "      <th>6</th>\n",
       "      <td>7</td>\n",
       "      <td>2012.666667</td>\n",
       "      <td>34.5</td>\n",
       "      <td>623.47310</td>\n",
       "      <td>7</td>\n",
       "      <td>24.97933</td>\n",
       "      <td>121.53642</td>\n",
       "      <td>40.3</td>\n",
       "    </tr>\n",
       "    <tr>\n",
       "      <th>7</th>\n",
       "      <td>8</td>\n",
       "      <td>2013.416667</td>\n",
       "      <td>20.3</td>\n",
       "      <td>287.60250</td>\n",
       "      <td>6</td>\n",
       "      <td>24.98042</td>\n",
       "      <td>121.54228</td>\n",
       "      <td>46.7</td>\n",
       "    </tr>\n",
       "    <tr>\n",
       "      <th>8</th>\n",
       "      <td>9</td>\n",
       "      <td>2013.500000</td>\n",
       "      <td>31.7</td>\n",
       "      <td>5512.03800</td>\n",
       "      <td>1</td>\n",
       "      <td>24.95095</td>\n",
       "      <td>121.48458</td>\n",
       "      <td>18.8</td>\n",
       "    </tr>\n",
       "    <tr>\n",
       "      <th>9</th>\n",
       "      <td>10</td>\n",
       "      <td>2013.416667</td>\n",
       "      <td>17.9</td>\n",
       "      <td>1783.18000</td>\n",
       "      <td>3</td>\n",
       "      <td>24.96731</td>\n",
       "      <td>121.51486</td>\n",
       "      <td>22.1</td>\n",
       "    </tr>\n",
       "  </tbody>\n",
       "</table>\n",
       "</div>"
      ],
      "text/plain": [
       "   No  X1 transaction date  X2 house age  \\\n",
       "0   1          2012.916667          32.0   \n",
       "1   2          2012.916667          19.5   \n",
       "2   3          2013.583333          13.3   \n",
       "3   4          2013.500000          13.3   \n",
       "4   5          2012.833333           5.0   \n",
       "5   6          2012.666667           7.1   \n",
       "6   7          2012.666667          34.5   \n",
       "7   8          2013.416667          20.3   \n",
       "8   9          2013.500000          31.7   \n",
       "9  10          2013.416667          17.9   \n",
       "\n",
       "   X3 distance to the nearest MRT station  X4 number of convenience stores  \\\n",
       "0                                84.87882                               10   \n",
       "1                               306.59470                                9   \n",
       "2                               561.98450                                5   \n",
       "3                               561.98450                                5   \n",
       "4                               390.56840                                5   \n",
       "5                              2175.03000                                3   \n",
       "6                               623.47310                                7   \n",
       "7                               287.60250                                6   \n",
       "8                              5512.03800                                1   \n",
       "9                              1783.18000                                3   \n",
       "\n",
       "   X5 latitude  X6 longitude  Y house price of unit area  \n",
       "0     24.98298     121.54024                        37.9  \n",
       "1     24.98034     121.53951                        42.2  \n",
       "2     24.98746     121.54391                        47.3  \n",
       "3     24.98746     121.54391                        54.8  \n",
       "4     24.97937     121.54245                        43.1  \n",
       "5     24.96305     121.51254                        32.1  \n",
       "6     24.97933     121.53642                        40.3  \n",
       "7     24.98042     121.54228                        46.7  \n",
       "8     24.95095     121.48458                        18.8  \n",
       "9     24.96731     121.51486                        22.1  "
      ]
     },
     "execution_count": 19,
     "metadata": {},
     "output_type": "execute_result"
    }
   ],
   "source": [
    "data.head(10)"
   ]
  },
  {
   "cell_type": "markdown",
   "id": "118dc9cc-30a1-41c0-be02-2e87decb809a",
   "metadata": {},
   "source": [
    "## Revisión de los datos\n",
    "Una vez se han cargado los datos con los cuales vamos a entrenar nuestro modelo, una buen a práctica es revisar los datos con los que estaremos trabajando"
   ]
  },
  {
   "cell_type": "code",
   "execution_count": 93,
   "id": "b5cce468-780d-41d2-8b41-fe1bf5078149",
   "metadata": {},
   "outputs": [
    {
     "data": {
      "application/vnd.jupyter.widget-view+json": {
       "model_id": "8207b4ce284249c8b1b79fae69723e5f",
       "version_major": 2,
       "version_minor": 0
      },
      "text/plain": [
       "RadioButtons(description='Parameter to explore:', index=1, options=('X1 transaction date', 'X2 house age', 'X3…"
      ]
     },
     "metadata": {},
     "output_type": "display_data"
    }
   ],
   "source": [
    "# columns = ['X1 transaction date', 'X2 house age', 'X3 distance to the nearest MRT station', 'X4 number of convenience stores', 'X5 latitude', 'X6 longitude']\n",
    "columns = [col for col in data.columns ]\n",
    "columns.remove('No')\n",
    "columns.remove('Y house price of unit area')\n",
    "section = widgets.RadioButtons(\n",
    "    options=columns,\n",
    "    value='X2 house age',\n",
    "    description='Parameter to explore:',\n",
    "    disabled=False,\n",
    ")\n",
    "display(section)"
   ]
  },
  {
   "cell_type": "code",
   "execution_count": 94,
   "id": "0392b149-4daa-4839-ba38-0cc4e888267a",
   "metadata": {},
   "outputs": [
    {
     "name": "stdout",
     "output_type": "stream",
     "text": [
      "[-0.25148842 42.43469705]\n"
     ]
    }
   ],
   "source": [
    "ones = np.ones((len(data),1))\n",
    "x = data[section.value]\n",
    "y = data['Y house price of unit area']\n",
    "A = np.column_stack((x,ones))\n",
    "# A = np.column_stack((x,ones))\n",
    "\n",
    "theta = np.matmul(np.matmul(np.linalg.pinv(np.matmul(np.transpose(A),A)),np.transpose(A)),y)\n",
    "print(theta)"
   ]
  },
  {
   "cell_type": "code",
   "execution_count": 95,
   "id": "42c60bcc-38c5-4054-83ad-10d6bce9b613",
   "metadata": {},
   "outputs": [
    {
     "name": "stdout",
     "output_type": "stream",
     "text": [
      "[-0.25148842 42.43469705]\n"
     ]
    }
   ],
   "source": [
    "theta = np.linalg.pinv(A.T@A)@A.T@y\n",
    "print(theta)"
   ]
  },
  {
   "cell_type": "code",
   "execution_count": 96,
   "id": "7a5bf0f6-e771-4362-b26a-2088ebe8c85e",
   "metadata": {},
   "outputs": [],
   "source": [
    "h = np.matmul(A,theta)"
   ]
  },
  {
   "cell_type": "code",
   "execution_count": 97,
   "id": "6c81dad4-a57d-4798-88b0-3f2b01b04f9d",
   "metadata": {},
   "outputs": [
    {
     "data": {
      "image/png": "[encoded data removed]",
      "text/plain": [
       "<Figure size 640x480 with 1 Axes>"
      ]
     },
     "metadata": {},
     "output_type": "display_data"
    }
   ],
   "source": [
    "# Graficando las variables de interes\n",
    "plt.scatter(data[section.value], data['Y house price of unit area'],alpha=0.4,edgecolor='none')\n",
    "plt.xlabel('section.value')\n",
    "plt.ylabel('Price [dollars/$m^2$]')\n",
    "plt.scatter(x,h)\n",
    "plt.grid(visible=True,alpha=0.2)"
   ]
  },
  {
   "cell_type": "code",
   "execution_count": 99,
   "id": "c8d047e9-535d-49f5-b4f7-b43fa12c2acc",
   "metadata": {},
   "outputs": [
    {
     "name": "stdout",
     "output_type": "stream",
     "text": [
      "['X1 transaction date', 'X2 house age', 'X3 distance to the nearest MRT station', 'X4 number of convenience stores', 'X5 latitude', 'X6 longitude']\n"
     ]
    }
   ],
   "source": [
    "# Matriz \n",
    "ones = np.ones((len(data),1))\n",
    "x = data['X2 house age']\n",
    "y = data['Y house price of unit area']\n",
    "A = np.column_stack((x,x**2,ones))\n",
    "#print(A)\n",
    "print(columns)"
   ]
  },
  {
   "cell_type": "code",
   "execution_count": 68,
   "id": "e38cfda9-d57f-4b31-97da-ec51e65ed0f3",
   "metadata": {
    "scrolled": true
   },
   "outputs": [
    {
     "data": {
      "application/vnd.jupyter.widget-view+json": {
       "model_id": "7644be74c85b460bb7b8410f2eb524dd",
       "version_major": 2,
       "version_minor": 0
      },
      "text/plain": [
       "HBox(children=(Checkbox(value=False, description='X1 transaction date', layout=Layout(width='500px')), Checkbo…"
      ]
     },
     "metadata": {},
     "output_type": "display_data"
    }
   ],
   "source": [
    "\n",
    "checkbox_layout = widgets.Layout(\n",
    "    display='flex',\n",
    "    flex='70%',\n",
    "    flex_flox='row wrap',\n",
    "    align_items= 'center',\n",
    "    align_content='stretch',\n",
    "    width=\"100%\"\n",
    ")\n",
    "params = [widgets.Checkbox(description=col, layout=widgets.Layout(width='500px')) for col in columns]\n",
    "display(widgets.HBox(children=params, layout=checkbox_layout))"
   ]
  },
  {
   "cell_type": "code",
   "execution_count": 16,
   "id": "eebeaea7-7042-4e64-b16d-d22558fd5a6d",
   "metadata": {},
   "outputs": [],
   "source": [
    "# @params Theta: observaciones, A:Matrix que define el modelo\n",
    "def h_theta(theta,A):\n",
    "    return A@theta"
   ]
  },
  {
   "cell_type": "code",
   "execution_count": 15,
   "id": "d2c77861-da9e-42a3-8fef-b32587c30d2b",
   "metadata": {},
   "outputs": [],
   "source": [
    "# representa la forma J = (1/m) eT * e\n",
    "def cost_j(theta, h, y):\n",
    "    e = h - y\n",
    "    m = len(y)\n",
    "    J = (1/m * e.T@e)\n",
    "    return J\n"
   ]
  },
  {
   "cell_type": "code",
   "execution_count": 18,
   "id": "42b40313-8918-4442-bbe3-0f860a01c9e3",
   "metadata": {},
   "outputs": [
    {
     "data": {
      "application/vnd.jupyter.widget-view+json": {
       "model_id": "bde2c4a29b8645c89dbe0c59daffd088",
       "version_major": 2,
       "version_minor": 0
      },
      "text/plain": [
       "FloatSlider(value=5.0, continuous_update=False, description='Valor de alpha', readout_format='.1f')"
      ]
     },
     "metadata": {},
     "output_type": "display_data"
    }
   ],
   "source": [
    "alpha = widgets.FloatSlider(\n",
    "    value=5,\n",
    "    min=0,\n",
    "    max=100.0,\n",
    "    step=0.1,\n",
    "    description='Valor de alpha',\n",
    "    disabled=False,\n",
    "    continuous_update=False,\n",
    "    orientation='horizontal',\n",
    "    readout=True,\n",
    "    readout_format='.1f',\n",
    ")\n",
    "display(alpha)"
   ]
  },
  {
   "cell_type": "code",
   "execution_count": 14,
   "id": "fb5c48b2-2554-4edf-9da2-74cae86f2157",
   "metadata": {},
   "outputs": [],
   "source": [
    "def derivate_J(theta,h,A,y):\n",
    "    e = h - y\n",
    "    m = len(y)\n",
    "    dxJ = 1/m * A.T@e\n",
    "    return dxJ"
   ]
  },
  {
   "cell_type": "markdown",
   "id": "9154cc9d-ebec-454c-a271-c85e05999eb7",
   "metadata": {},
   "source": [
    "Para realizar la actualización de datos, se usará la función _update_data_, la cual hace el cálculo de: \n",
    "$$ \\begin{equation}\n",
    "   \\theta_{j+1} = \\theta_{j} - \\frac{\\alpha}{m} A^Te\n",
    "   \\end{equation}$$\n",
    "Con los siguientes párametros esperados: \n",
    "* $ \\theta_j $\n",
    "* La tasa de aprendizaje $ \\alpha $\n",
    "* La matriz A\n",
    "* la salida del modelo $ h_\\theta $\n",
    "* La salida esperada y\n",
    "\n",
    "Y retorna el parámetro actualizado $\\theta_{j+1}$\n"
   ]
  },
  {
   "cell_type": "code",
   "execution_count": 13,
   "id": "1ad135ca-c60f-4cfa-9130-b9d780f62093",
   "metadata": {},
   "outputs": [],
   "source": [
    "def update_data(theta_j, alpha, A, h, y):\n",
    "    e =  h - y\n",
    "    m = len(y)\n",
    "    res = theta_j - (alpha/m * A.T@e)\n",
    "    return res"
   ]
  },
  {
   "cell_type": "code",
   "execution_count": null,
   "id": "c3d56d39-cba9-4b07-a19d-7968907090cd",
   "metadata": {},
   "outputs": [],
   "source": []
  }
 ],
 "metadata": {
  "kernelspec": {
   "display_name": "Python 3 (ipykernel)",
   "language": "python",
   "name": "python3"
  },
  "language_info": {
   "codemirror_mode": {
    "name": "ipython",
    "version": 3
   },
   "file_extension": ".py",
   "mimetype": "text/x-python",
   "name": "python",
   "nbconvert_exporter": "python",
   "pygments_lexer": "ipython3",
   "version": "3.12.1"
  }
 },
 "nbformat": 4,
 "nbformat_minor": 5
}
