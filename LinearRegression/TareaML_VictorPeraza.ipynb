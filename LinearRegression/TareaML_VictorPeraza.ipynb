{
 "cells": [
  {
   "cell_type": "markdown",
   "id": "f23bdb18-451d-478f-bb6c-cdadc240674f",
   "metadata": {},
   "source": [
    "# Tarea 1: Regresión Lineal\n",
    "### Pontificia Universidad Javeriana\n",
    "\n",
    "<font size=\"3\">Departamento de Ingeniería Electrónica</font>\n",
    "<br>\n",
    "<font size=\"3\">Inteligencia Artificial</font>\n",
    "\n",
    "\n",
    "Estudiante: Víctor Daniel Peraza Bolaños\n",
    "\n"
   ]
  },
  {
   "cell_type": "markdown",
   "id": "2018ae2f-4814-4c41-88bc-f4bb4565467f",
   "metadata": {},
   "source": [
    "## Preliminares\n",
    "\n",
    "Antes de entrar en la temática de regresión lineal, importaremos las líbreias a usar: \n",
    "* Pandas\n",
    "* Numpy\n",
    "* Matplotlib\n",
    "* Random\n",
    "* ipywidgets\n",
    "\n",
    "## Importante\n",
    "### si los widgets presentan el error: _Error displaying widget: model not found_, la solución a esto es ejecutar el bloque de código correspondiente "
   ]
  },
  {
   "cell_type": "code",
   "execution_count": 55,
   "id": "5b8c01db-fd85-4dfe-9679-9a874ec14e23",
   "metadata": {},
   "outputs": [],
   "source": [
    "# Librerias a usar\n",
    "\n",
    "import pandas as pd\n",
    "import numpy as np\n",
    "import matplotlib.pyplot as plt\n",
    "from random import random\n",
    "import ipywidgets as widgets\n",
    "\n",
    "%matplotlib inline"
   ]
  },
  {
   "cell_type": "markdown",
   "id": "1b974c0c-87ea-416e-be86-ed527c6b7115",
   "metadata": {},
   "source": [
    "Y cargaremos los datos a usar: \n",
    "\n",
    "Los datos usados corresponden a una muestra de precios de viviendas con 6 criterios que influyen en el precio. Estos 6 criterios son: \n",
    "* _Transaction Date_\n",
    "* _House Age_\n",
    "* _Distance to Nearest MRT station_\n",
    "* _Number of convenience stores_\n",
    "* _Latitude_\n",
    "* _Longitude_"
   ]
  },
  {
   "cell_type": "code",
   "execution_count": 4,
   "id": "2e2623dc-616b-44a7-95e7-1240d75047a6",
   "metadata": {},
   "outputs": [
    {
     "data": {
      "text/plain": [
       "(414, 8)"
      ]
     },
     "execution_count": 4,
     "metadata": {},
     "output_type": "execute_result"
    }
   ],
   "source": [
    "# Carga de datos \n",
    "data = pd.read_excel('Real estate valuation data set.xlsx')\n",
    "data.shape"
   ]
  },
  {
   "cell_type": "code",
   "execution_count": 5,
   "id": "996f39e8-8295-4b1d-9287-2af3d7abe261",
   "metadata": {},
   "outputs": [
    {
     "data": {
      "text/html": [
       "<div>\n",
       "<style scoped>\n",
       "    .dataframe tbody tr th:only-of-type {\n",
       "        vertical-align: middle;\n",
       "    }\n",
       "\n",
       "    .dataframe tbody tr th {\n",
       "        vertical-align: top;\n",
       "    }\n",
       "\n",
       "    .dataframe thead th {\n",
       "        text-align: right;\n",
       "    }\n",
       "</style>\n",
       "<table border=\"1\" class=\"dataframe\">\n",
       "  <thead>\n",
       "    <tr style=\"text-align: right;\">\n",
       "      <th></th>\n",
       "      <th>No</th>\n",
       "      <th>X1 transaction date</th>\n",
       "      <th>X2 house age</th>\n",
       "      <th>X3 distance to the nearest MRT station</th>\n",
       "      <th>X4 number of convenience stores</th>\n",
       "      <th>X5 latitude</th>\n",
       "      <th>X6 longitude</th>\n",
       "      <th>Y house price of unit area</th>\n",
       "    </tr>\n",
       "  </thead>\n",
       "  <tbody>\n",
       "    <tr>\n",
       "      <th>0</th>\n",
       "      <td>1</td>\n",
       "      <td>2012.916667</td>\n",
       "      <td>32.0</td>\n",
       "      <td>84.87882</td>\n",
       "      <td>10</td>\n",
       "      <td>24.98298</td>\n",
       "      <td>121.54024</td>\n",
       "      <td>37.9</td>\n",
       "    </tr>\n",
       "    <tr>\n",
       "      <th>1</th>\n",
       "      <td>2</td>\n",
       "      <td>2012.916667</td>\n",
       "      <td>19.5</td>\n",
       "      <td>306.59470</td>\n",
       "      <td>9</td>\n",
       "      <td>24.98034</td>\n",
       "      <td>121.53951</td>\n",
       "      <td>42.2</td>\n",
       "    </tr>\n",
       "    <tr>\n",
       "      <th>2</th>\n",
       "      <td>3</td>\n",
       "      <td>2013.583333</td>\n",
       "      <td>13.3</td>\n",
       "      <td>561.98450</td>\n",
       "      <td>5</td>\n",
       "      <td>24.98746</td>\n",
       "      <td>121.54391</td>\n",
       "      <td>47.3</td>\n",
       "    </tr>\n",
       "    <tr>\n",
       "      <th>3</th>\n",
       "      <td>4</td>\n",
       "      <td>2013.500000</td>\n",
       "      <td>13.3</td>\n",
       "      <td>561.98450</td>\n",
       "      <td>5</td>\n",
       "      <td>24.98746</td>\n",
       "      <td>121.54391</td>\n",
       "      <td>54.8</td>\n",
       "    </tr>\n",
       "    <tr>\n",
       "      <th>4</th>\n",
       "      <td>5</td>\n",
       "      <td>2012.833333</td>\n",
       "      <td>5.0</td>\n",
       "      <td>390.56840</td>\n",
       "      <td>5</td>\n",
       "      <td>24.97937</td>\n",
       "      <td>121.54245</td>\n",
       "      <td>43.1</td>\n",
       "    </tr>\n",
       "    <tr>\n",
       "      <th>5</th>\n",
       "      <td>6</td>\n",
       "      <td>2012.666667</td>\n",
       "      <td>7.1</td>\n",
       "      <td>2175.03000</td>\n",
       "      <td>3</td>\n",
       "      <td>24.96305</td>\n",
       "      <td>121.51254</td>\n",
       "      <td>32.1</td>\n",
       "    </tr>\n",
       "    <tr>\n",
       "      <th>6</th>\n",
       "      <td>7</td>\n",
       "      <td>2012.666667</td>\n",
       "      <td>34.5</td>\n",
       "      <td>623.47310</td>\n",
       "      <td>7</td>\n",
       "      <td>24.97933</td>\n",
       "      <td>121.53642</td>\n",
       "      <td>40.3</td>\n",
       "    </tr>\n",
       "    <tr>\n",
       "      <th>7</th>\n",
       "      <td>8</td>\n",
       "      <td>2013.416667</td>\n",
       "      <td>20.3</td>\n",
       "      <td>287.60250</td>\n",
       "      <td>6</td>\n",
       "      <td>24.98042</td>\n",
       "      <td>121.54228</td>\n",
       "      <td>46.7</td>\n",
       "    </tr>\n",
       "    <tr>\n",
       "      <th>8</th>\n",
       "      <td>9</td>\n",
       "      <td>2013.500000</td>\n",
       "      <td>31.7</td>\n",
       "      <td>5512.03800</td>\n",
       "      <td>1</td>\n",
       "      <td>24.95095</td>\n",
       "      <td>121.48458</td>\n",
       "      <td>18.8</td>\n",
       "    </tr>\n",
       "    <tr>\n",
       "      <th>9</th>\n",
       "      <td>10</td>\n",
       "      <td>2013.416667</td>\n",
       "      <td>17.9</td>\n",
       "      <td>1783.18000</td>\n",
       "      <td>3</td>\n",
       "      <td>24.96731</td>\n",
       "      <td>121.51486</td>\n",
       "      <td>22.1</td>\n",
       "    </tr>\n",
       "  </tbody>\n",
       "</table>\n",
       "</div>"
      ],
      "text/plain": [
       "   No  X1 transaction date  X2 house age  \\\n",
       "0   1          2012.916667          32.0   \n",
       "1   2          2012.916667          19.5   \n",
       "2   3          2013.583333          13.3   \n",
       "3   4          2013.500000          13.3   \n",
       "4   5          2012.833333           5.0   \n",
       "5   6          2012.666667           7.1   \n",
       "6   7          2012.666667          34.5   \n",
       "7   8          2013.416667          20.3   \n",
       "8   9          2013.500000          31.7   \n",
       "9  10          2013.416667          17.9   \n",
       "\n",
       "   X3 distance to the nearest MRT station  X4 number of convenience stores  \\\n",
       "0                                84.87882                               10   \n",
       "1                               306.59470                                9   \n",
       "2                               561.98450                                5   \n",
       "3                               561.98450                                5   \n",
       "4                               390.56840                                5   \n",
       "5                              2175.03000                                3   \n",
       "6                               623.47310                                7   \n",
       "7                               287.60250                                6   \n",
       "8                              5512.03800                                1   \n",
       "9                              1783.18000                                3   \n",
       "\n",
       "   X5 latitude  X6 longitude  Y house price of unit area  \n",
       "0     24.98298     121.54024                        37.9  \n",
       "1     24.98034     121.53951                        42.2  \n",
       "2     24.98746     121.54391                        47.3  \n",
       "3     24.98746     121.54391                        54.8  \n",
       "4     24.97937     121.54245                        43.1  \n",
       "5     24.96305     121.51254                        32.1  \n",
       "6     24.97933     121.53642                        40.3  \n",
       "7     24.98042     121.54228                        46.7  \n",
       "8     24.95095     121.48458                        18.8  \n",
       "9     24.96731     121.51486                        22.1  "
      ]
     },
     "execution_count": 5,
     "metadata": {},
     "output_type": "execute_result"
    }
   ],
   "source": [
    "data.head(10)"
   ]
  },
  {
   "cell_type": "markdown",
   "id": "08bd9885-8060-4543-8b78-744adac8f1b7",
   "metadata": {},
   "source": [
    "## Regresión Lineal\n",
    "\n",
    "La regresión lineal es una aplicación de aprendizaje supervisado en Machine Learning, debido a que trabaja con sets de datos los cuales estan etiquetados, es decir que incluyen ejemplos de entrada (_features_)  y de salidas (_labels_) correctas. \n",
    "\n",
    "De este entrenamiento mediante de datos etiquetados, se busca adaptarse lo mejor posible a los datos provistos, los cuales son continuos, a través de una función que permita predecir de la manera más correcta posible los valores provistas y también generar nuevas estimaciones y al mismo tiempo que dichas predicciones contengan el mínimo error posible. Dicha función permite estimar o generar una linea o superficie que mejor se ajuste a la nube de datos provista.   \n",
    "\n",
    "La función que representará el modelo de regresión lineal es:\n",
    "\n",
    "$$ \\begin{equation} h_\\theta(x^i) = \\theta_0 + \\theta_1 x_1 + \\dots + \\theta_i x_i \n",
    "\\end{equation} $$\n",
    "\n",
    "Como se trabaja con casos que tienen _n_ datos para las x^i variables y $\\theta_d$ parámetros, suele emplearse la forma matricial\n",
    "$$ \\begin{equation} h_\\theta(x^i) = A\\theta\n",
    "\\end{equation} $$\n",
    "\n",
    "Donde A es \n",
    "\n",
    "$$ \n",
    "\\mathbf{A} =\n",
    "\\begin{bmatrix}\n",
    "x_{1}^{(1)} & x_{2}^{(1)} & \\cdots & x_{d}^{(1)} & 1 \\\\\n",
    "\\vdots & \\vdots & \\ddots & \\vdots & 1\\\\\n",
    "\\vdots & \\vdots & \\ddots & \\vdots & 1 \\\\\n",
    "x_{1}^{(n)} & x_{2}^{(n)} & \\cdots & x_{d}^{(n)} & 1 \\\\\n",
    "\\end{bmatrix}\n",
    "$$\n",
    "\n"
   ]
  },
  {
   "cell_type": "code",
   "execution_count": 6,
   "id": "eebeaea7-7042-4e64-b16d-d22558fd5a6d",
   "metadata": {},
   "outputs": [],
   "source": [
    "# Representa la ecuacion h = A * theta\n",
    "def h_theta(theta,A):\n",
    "    return A@theta"
   ]
  },
  {
   "cell_type": "markdown",
   "id": "600bb255-763a-49a9-b972-244efee60d29",
   "metadata": {},
   "source": [
    "## Función de Costo\n",
    "Para poder medir el desempeño de nuestro modelo, se emplea una función de costo (_loss function_), que permite conocer cual será el error incurrido o costo de utilizar una serie de párametros para entrenar el modelo. La función de costo por ende permite evaluar que tan buenas o malas son las predicciones dadas por el modelo, partiendo desde la idea de que tan lejos se encuentra la estimación dada del valor (o la distancia entre ellos en el plano o la recta). \n",
    "\n",
    "Entre las diferentes funciones de costo posibles, una de las más comúnmente usadas es la función del Error Cuadrado Medio o Mean Least Squares, que viene dada por: \n",
    "\n",
    "$$ \\begin{equation}\n",
    "J_\\theta = \\frac{1}{m}\\sum^m_{i-1}[h_\\theta(x^{(i)})-y^{(i)}]^2 \\\\\n",
    "\\end{equation}$$\n",
    "Donde \n",
    "$$ e = h_\\theta(x^{(i)})-y^{(i)}$$\n",
    "Por lo que se puede re expresar como: \n",
    "$$\\begin{equation} J_\\theta = \\frac{1}{m}\\sum^m_{i-1}e^Te\n",
    "\\end{equation}$$\n",
    "Donde \n",
    "* $h(x^i)$ es la aproximación producida por la regresión\n",
    "* $y^i$ es el valor real"
   ]
  },
  {
   "cell_type": "code",
   "execution_count": 7,
   "id": "d2c77861-da9e-42a3-8fef-b32587c30d2b",
   "metadata": {},
   "outputs": [],
   "source": [
    "# representa la forma J = (1/m) eT * e\n",
    "def cost_j(theta, h, y):\n",
    "    e = h - y\n",
    "    m = len(y)\n",
    "    J = (1/m * e.T@e)\n",
    "    return J\n"
   ]
  },
  {
   "cell_type": "markdown",
   "id": "86c16782-3f6f-404d-9544-24a34b63cbae",
   "metadata": {},
   "source": [
    "Ahora bien, una vez determinada la función de costo a emplear, se necesita encontrar la forma de que el error del modelo sea el menor posible, ya que esto implicará que la aproximación generada por el modelo es lo suficientemente confiable. \n",
    "\n",
    "Para hacer esto, se utilizará la técnica del **Gradiente Descendiente**\n",
    "\n",
    "## Gradient Descent o Gradiente Descendiente\n",
    "\n",
    "La técnica del gradiente descendiente, permite generalizar la optimización de $J_\\theta$ hacia el valor mínimo posible o lo que es lo mismo, el menor error posible. \n",
    "\n",
    "Esto lo hace mediante el cálculo del gradiente de la matriz o el vector de incógnitas, el cual permite encontrar el máximo del vector, sin embargo como lo que se desea es encontrar el mínimo, de este valor se procedera a ir en la dirección contraria del mayor valor, hasta finalmente encontrar el mínimo. Algunas consideraciones de este método son las siguientes: \n",
    "\n",
    "* El valor mínimo que se encuentra no es necesariamente el mínimo global.\n",
    "* La elección de valores iniciales cambiará el camino seguido a lo largo del gradiente.\n",
    "\n",
    "La fórmula de Gradiente Descendiente es la siguiente: \n",
    "   \n",
    "$$ \\begin{equation}\n",
    "   \\theta_{j+1} = \\theta_{j} - \\frac{\\alpha}{m}\\frac{\\partial}{\\partial \\theta}J(\\theta)\n",
    "   \\end{equation}$$\n",
    "\n",
    "$$ \\begin{equation}\n",
    "   \\theta_{j+1} = \\theta_{j} - \\frac{\\alpha}{m}\\frac{\\partial}{\\partial \\theta}[h_\\theta(x^{(i)})-y^{(i)}]^2 \\\\\n",
    "   \\end{equation}$$\n",
    "   \n",
    "\n",
    "Con los siguientes párametros esperados: \n",
    "* $ \\theta_j $, la predicción o valor actual\n",
    "* La tasa de aprendizaje $ \\alpha $\n",
    "* m la cantidad de datos del modelo\n",
    "* La matriz A\n",
    "* la salida del modelo $ h_\\theta $\n",
    "* La salida esperada y\n",
    "Y retorna el parámetro actualizado $\\theta_{j+1}$\n",
    "\n",
    "Que al optimizar J, se puede reexpresar como: \n",
    "\n",
    "$$ \\begin{equation}\n",
    "   \\theta_{j+1} = \\theta_{j} - \\frac{\\alpha}{m} A^Te\n",
    "   \\end{equation}$$\n",
    "\n",
    "\n",
    "Los valores obtenidos a lo largo de las iteraciones nos servirán para gráficar el función de *Loss vs Epoch*, permitiendo ver como se dio el proceso de aprendizaje del modelo y si el valor del paso $\\alpha$ necesita algún ajuste\n",
    "\n",
    "Las condiciones de paro que serán empleadas para la función son las siguientes: \n",
    "* _max_iterations_ -> Se llego a una cantidad máxima de iteraciones previamente especificada, por lo que el programa se detiene \n",
    "* _cost_diff_ -> La diferencia de costo entre la iteración anterior y la actual no ha cambiado, lo que indica que el modelo se ha estabilizado y no esta aprendiendo más. \n"
   ]
  },
  {
   "cell_type": "code",
   "execution_count": 8,
   "id": "fb5c48b2-2554-4edf-9da2-74cae86f2157",
   "metadata": {},
   "outputs": [],
   "source": [
    "def derivate_J(theta,h,A,y):\n",
    "    e = h - y\n",
    "    m = len(y)\n",
    "    dxJ = 1/m * A.T@e\n",
    "    return dxJ"
   ]
  },
  {
   "cell_type": "code",
   "execution_count": 9,
   "id": "1ad135ca-c60f-4cfa-9130-b9d780f62093",
   "metadata": {},
   "outputs": [],
   "source": [
    "def update_theta(theta_j, alpha, A, h, y):\n",
    "    e =  h - y\n",
    "    m = len(y)\n",
    "    res = theta_j - (alpha/m * A.T@e)\n",
    "    return res"
   ]
  },
  {
   "cell_type": "markdown",
   "id": "118dc9cc-30a1-41c0-be02-2e87decb809a",
   "metadata": {},
   "source": [
    "## Revisión de los datos\n",
    "Una vez se han cargado los datos con los cuales vamos a entrenar nuestro modelo, una buen a práctica es revisar los datos con los que estaremos trabajando. \n",
    "\n",
    "Para ello, trabajaremos con una regresión lineal de una entrada, por lo que nuestras variables se verían de la siguiente forma: \n",
    "\n",
    "$$\\begin{equation}\n",
    "h_\\theta = \\theta_1 x^1 +\\theta_0\n",
    "\\end{equation}$$\n",
    "\n",
    "$$ \n",
    "\\mathbf{A} =\n",
    "\\begin{bmatrix}\n",
    "x_{1}^{(1)}  & 1 \\\\\n",
    "\\vdots    & 1\\\\\n",
    "\\vdots  & 1 \\\\\n",
    "x_{1}^{(n)}  & 1 \\\\\n",
    "\\end{bmatrix}\n",
    "$$"
   ]
  },
  {
   "cell_type": "markdown",
   "id": "a7f2ec50-c306-4dba-a09b-013aa86b1856",
   "metadata": {},
   "source": [
    "**Seleccione uno de los siguientes párametros para explorar su distribución**"
   ]
  },
  {
   "cell_type": "code",
   "execution_count": 10,
   "id": "b5cce468-780d-41d2-8b41-fe1bf5078149",
   "metadata": {},
   "outputs": [
    {
     "data": {
      "application/vnd.jupyter.widget-view+json": {
       "model_id": "aa765791ca0d4cf3aab3683fd07ef148",
       "version_major": 2,
       "version_minor": 0
      },
      "text/plain": [
       "RadioButtons(description='Parameter to explore:', index=1, options=('X1 transaction date', 'X2 house age', 'X3…"
      ]
     },
     "metadata": {},
     "output_type": "display_data"
    }
   ],
   "source": [
    "# columns = ['X1 transaction date', 'X2 house age', 'X3 distance to the nearest MRT station', 'X4 number of convenience stores', 'X5 latitude', 'X6 longitude']\n",
    "columns = [col for col in data.columns ]\n",
    "columns.remove('No')\n",
    "columns.remove('Y house price of unit area')\n",
    "section = widgets.RadioButtons(\n",
    "    options=columns,\n",
    "    value='X2 house age',\n",
    "    description='Parameter to explore:',\n",
    "    disabled=False,\n",
    ")\n",
    "display(section)"
   ]
  },
  {
   "cell_type": "markdown",
   "id": "88a4604f-ea56-4ee5-bc88-4c954555324e",
   "metadata": {},
   "source": [
    "Ahora, se calcula el gradiente descendiente para la columna seleccionada"
   ]
  },
  {
   "cell_type": "code",
   "execution_count": 56,
   "id": "0392b149-4daa-4839-ba38-0cc4e888267a",
   "metadata": {},
   "outputs": [],
   "source": [
    "ones = np.ones((len(data),1))\n",
    "x = data[section.value]\n",
    "y = data['Y house price of unit area']\n",
    "A = np.column_stack((x,ones))\n",
    "# A = np.column_stack((x,ones))\n",
    "\n",
    "theta = np.matmul(np.matmul(np.linalg.pinv(np.matmul(np.transpose(A),A)),np.transpose(A)),y)\n",
    "h = h_theta(theta,A)"
   ]
  },
  {
   "cell_type": "code",
   "execution_count": 57,
   "id": "6c81dad4-a57d-4798-88b0-3f2b01b04f9d",
   "metadata": {},
   "outputs": [
    {
     "data": {
      "image/png": "[encoded data removed]",
      "text/plain": [
       "<Figure size 640x480 with 1 Axes>"
      ]
     },
     "metadata": {},
     "output_type": "display_data"
    }
   ],
   "source": [
    "# Graficando las variables de interes\n",
    "\n",
    "plt.scatter(data[section.value], data['Y house price of unit area'],alpha=0.4,edgecolor='none')\n",
    "plt.xlabel('Value',fontsize=12)\n",
    "plt.ylabel('Price [dollars/$m^2$]')\n",
    "plt.scatter(x,h)\n",
    "plt.grid(visible=True,alpha=0.2)"
   ]
  },
  {
   "cell_type": "markdown",
   "id": "9154cc9d-ebec-454c-a271-c85e05999eb7",
   "metadata": {},
   "source": [
    "## Implementando Regresión Multivariable a través de Gradiente Descendiente\n",
    "\n",
    "Ahora que ya se ha explorado la data previamente, para poder tener una noción como esta distribuida, se aplicará gradiente descendiente a todo el conjunto. \n",
    "Para aplicar Gradiente descendiente con una regresión multivariable, $h_\\theta$ será de la siguiente forma:\n",
    "\n",
    "$$ \\begin{equation} h_\\theta(x^i) = \\theta_0 + \\theta_1 x_1 + \\dots + \\theta_i x_i \n",
    "\\end{equation} $$\n",
    "\n",
    "Y el vector $\\hat A$ volverá a ser:\n",
    "\n",
    "$$ \n",
    "\\mathbf{A} =\n",
    "\\begin{bmatrix}\n",
    "x_{1}^{(1)} & x_{2}^{(1)} & \\cdots & x_{d}^{(1)} & 1 \\\\\n",
    "\\vdots & \\vdots & \\ddots & \\vdots & 1\\\\\n",
    "\\vdots & \\vdots & \\ddots & \\vdots & 1 \\\\\n",
    "x_{1}^{(n)} & x_{2}^{(n)} & \\cdots & x_{d}^{(n)} & 1 \\\\\n",
    "\\end{bmatrix}\n",
    "$$\n",
    "\n",
    "\n",
    "Y calcularemos $\\theta$ con la función que se estableció previamente, que es\n",
    "$$ \\begin{equation}\n",
    "   \\theta_{j+1} = \\theta_{j} - \\frac{\\alpha}{m} A^Te\n",
    "   \\end{equation}$$\n",
    "\n",
    "Que se ejecutará un determinado de iteraciones. \n",
    "\n",
    "Los valores obtenidos a lo largo de las iteraciones nos servirán para gráficar el función de *Loss vs Epoch*, permitiendo ver como se dio el proceso de aprendizaje del modelo y si el valor del paso $\\alpha$ necesita algún ajuste\n",
    "\n",
    "Las condiciones de paro que serán empleadas para la función son las siguientes: \n",
    "* _max_iterations_ -> Se llego a una cantidad máxima de iteraciones previamente especificada, por lo que el programa se detiene \n",
    "* _cost_diff_ -> La diferencia de costo entre la iteración anterior y la actual no ha cambiado, lo que indica que el modelo se ha estabilizado y no esta aprendiendo más. \n"
   ]
  },
  {
   "cell_type": "markdown",
   "id": "9fcc863b-2ef0-4ac5-b11a-ed2c30b0cfc7",
   "metadata": {},
   "source": [
    "**Seleccione las columnas a utilizar en el modelo**"
   ]
  },
  {
   "cell_type": "code",
   "execution_count": 79,
   "id": "e38cfda9-d57f-4b31-97da-ec51e65ed0f3",
   "metadata": {},
   "outputs": [
    {
     "data": {
      "application/vnd.jupyter.widget-view+json": {
       "model_id": "c6b2a9783008460385a8ce8b2b7e2bae",
       "version_major": 2,
       "version_minor": 0
      },
      "text/plain": [
       "HBox(children=(Checkbox(value=False, description='X1 transaction date', layout=Layout(width='500px')), Checkbo…"
      ]
     },
     "metadata": {},
     "output_type": "display_data"
    }
   ],
   "source": [
    "checkbox_layout = widgets.Layout(\n",
    "    display='flex',\n",
    "    flex='70%',\n",
    "    flex_flox='row wrap',\n",
    "    align_items= 'center',\n",
    "    align_content='stretch',\n",
    "    width=\"100%\"\n",
    ")\n",
    "options_widget = [widgets.Checkbox(description=col, layout=widgets.Layout(width='500px')) for col in columns]\n",
    "display(widgets.HBox(children=options_widget, layout=checkbox_layout))"
   ]
  },
  {
   "cell_type": "markdown",
   "id": "38436d36-df4b-46f5-938f-1e5d22e12e18",
   "metadata": {},
   "source": [
    "**Seleccione el valor de alpha a usar**"
   ]
  },
  {
   "cell_type": "code",
   "execution_count": 53,
   "id": "42b40313-8918-4442-bbe3-0f860a01c9e3",
   "metadata": {},
   "outputs": [
    {
     "data": {
      "application/vnd.jupyter.widget-view+json": {
       "model_id": "3443d648b16b4002bf9b78c1361a5f70",
       "version_major": 2,
       "version_minor": 0
      },
      "text/plain": [
       "FloatSlider(value=5e-06, continuous_update=False, description='Alpha', max=1e-05, min=1e-07, readout_format='.…"
      ]
     },
     "metadata": {},
     "output_type": "display_data"
    }
   ],
   "source": [
    "alpha_widget = widgets.FloatSlider(\n",
    "    value=0.000005,\n",
    "    min=0.0000001,\n",
    "    max=0.00001,\n",
    "    step=0.0000001,\n",
    "    description='Alpha',\n",
    "    disabled=False,\n",
    "    continuous_update=False,\n",
    "    orientation='horizontal',\n",
    "    readout=True,\n",
    "    readout_format='.7f',\n",
    ")\n",
    "display(alpha_widget)\n"
   ]
  },
  {
   "cell_type": "code",
   "execution_count": 54,
   "id": "18eb1f68-3034-47aa-9c3c-0a15d39e810a",
   "metadata": {},
   "outputs": [
    {
     "data": {
      "application/vnd.jupyter.widget-view+json": {
       "model_id": "ab08c314c7434832818c90e4e4599c17",
       "version_major": 2,
       "version_minor": 0
      },
      "text/plain": [
       "IntText(value=10, description='Iterations:')"
      ]
     },
     "metadata": {},
     "output_type": "display_data"
    }
   ],
   "source": [
    "iters =widgets.IntText(\n",
    "    value=10,\n",
    "    description='Iterations:',\n",
    "    disabled=False\n",
    ")\n",
    "display(iters)\n"
   ]
  },
  {
   "cell_type": "code",
   "execution_count": 71,
   "id": "17774e5c-7081-4120-953c-6ba4fa0fa046",
   "metadata": {},
   "outputs": [],
   "source": [
    "# Funcion auxiliar: Validacion de parametros\n",
    "def validate_parameters(alpha,params):\n",
    "    if np.isnan(alpha) or alpha == 0:\n",
    "        print('Please a value for alpha')\n",
    "        return False\n",
    "\n",
    "    if params == 0:\n",
    "        print('Please select at least one column')\n",
    "        return False\n",
    "\n",
    "    return True"
   ]
  },
  {
   "cell_type": "code",
   "execution_count": 127,
   "id": "c7b39855-2ed1-4d6b-870d-254242ccd4b6",
   "metadata": {},
   "outputs": [],
   "source": [
    "def gradient_descent(alpha, max_iter, A, theta, y):\n",
    "    \n",
    "    h = h_theta(theta,A)\n",
    "    e = h - y\n",
    "    iterations = max_iter \n",
    "    costs = []\n",
    "    previous = 0.0\n",
    "    actual = 0.0\n",
    "    \n",
    "    for i in range(iterations):\n",
    "        previous = cost_j(theta,h,y)\n",
    "        theta = update_theta(theta,alpha,A,h,y)\n",
    "        h = h_theta(theta,A)\n",
    "        e = h -y\n",
    "        actual = cost_j(theta,h,y)\n",
    "    \n",
    "        if np.isinf(actual) or np.isnan(actual):\n",
    "            break\n",
    "    \n",
    "        costs.append(actual)\n",
    "        cost_diff = abs(previous - actual)\n",
    "        if cost_diff < 10**-10:\n",
    "                break\n",
    "    graph(costs)\n",
    "    return \n",
    "        "
   ]
  },
  {
   "cell_type": "code",
   "execution_count": 60,
   "id": "0b3ddaba-5129-4d0f-9b6e-cb666d8cce57",
   "metadata": {},
   "outputs": [],
   "source": [
    "def graph(costs):\n",
    "    # ploting cost vs epoch \n",
    "    plt.title('Cost Function', fontsize=16)\n",
    "    plt.xlabel('Epoch',fontsize=12)\n",
    "    plt.ylabel('Cost',fontsize=12)\n",
    "    plt.style.use('Solarize_Light2')\n",
    "    \n",
    "    plt.plot(costs,linestyle='-', markersize=5,  c='steelblue', label='cost')\n",
    "     # Show the plot\n",
    "    plt.show()"
   ]
  },
  {
   "cell_type": "code",
   "execution_count": 125,
   "id": "ee1f1c49-88f6-420b-8b2c-c1be4b2cf458",
   "metadata": {},
   "outputs": [],
   "source": [
    "def main(alpha, options, iters):\n",
    "   # Validation of parameters\n",
    "    alpha_input = alpha_widget.value\n",
    "    options_input = [option.description for option in options_widget if option.value]\n",
    "    max_iters_input = iters.value\n",
    "    \n",
    "    \n",
    "    n = len(options_input)\n",
    "    #Initialization of variables\n",
    "    theta = [random() for _ in range(n+1)]\n",
    "    ones = np.ones((len(data),1))\n",
    "    x_variables = np.column_stack([data[param] for param in options_input])\n",
    "    y = data['Y house price of unit area']\n",
    "    A = np.column_stack((x_variables,ones))\n",
    "    \n",
    "    \n",
    "    gradient_descent(alpha_input,max_iters_input,A,theta,y)\n",
    "    "
   ]
  },
  {
   "cell_type": "code",
   "execution_count": 131,
   "id": "3a0257bb-8f37-45ea-96ea-5f9cd75b2c7d",
   "metadata": {},
   "outputs": [
    {
     "data": {
      "image/png": "[encoded data removed]",
      "text/plain": [
       "<Figure size 640x480 with 1 Axes>"
      ]
     },
     "metadata": {},
     "output_type": "display_data"
    }
   ],
   "source": [
    "main(alpha_widget,options_widget,iters)"
   ]
  }
 ],
 "metadata": {
  "kernelspec": {
   "display_name": "Python 3 (ipykernel)",
   "language": "python",
   "name": "python3"
  },
  "language_info": {
   "codemirror_mode": {
    "name": "ipython",
    "version": 3
   },
   "file_extension": ".py",
   "mimetype": "text/x-python",
   "name": "python",
   "nbconvert_exporter": "python",
   "pygments_lexer": "ipython3",
   "version": "3.12.1"
  }
 },
 "nbformat": 4,
 "nbformat_minor": 5
}
