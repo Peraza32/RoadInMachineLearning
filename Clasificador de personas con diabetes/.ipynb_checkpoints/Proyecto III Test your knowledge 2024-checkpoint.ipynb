{
 "cells": [
  {
   "cell_type": "markdown",
   "metadata": {},
   "source": [
    "# Proyecto III:  Test your knowledge\n",
    "\n",
    "En este proyecto final para la asignatura Inteligencia Artificial. El objetivo es que ustedes prueben todos sus conocimientos en el desarrollo de sistemas de clasificación utilizando redes neuronales artificiales clásicas. Para este proyecto ustedes solucionaran un problema de clasificación del [UCI Repository](https://archive.ics.uci.edu/ml/index.php). La idea es que los estudiantes se dividan en grupos de máximo 3 personas, y del listado de problemas escojan un problema para solucionarlo. En cada uno de los problemas los estudiantes deberán proporcionar los siguientes elementos:\n",
    "\n",
    "1. Explicación básica del problema.\n",
    "2. Un notebook con el desarrollo del problema:\n",
    "    * Tratamiento de los datos,\n",
    "    * Análisis exploratorio de datos\n",
    "    * Esquema de entrenamiento.\n",
    "    * Esquema de prueba de funcionamiento del modelo\n",
    "    * Evaluación de VARIOS modelos de clasificación de los vistos en clase. Para cada modelo deben proporcionar:\n",
    "        - generación de intervalos de confidencia para la salida del modelo de clasificiación (medidas de performance como accuracy, sensitivity, AUC, curva ROC, matriz de confusión, etc... con sus respectivos intervalos de confidencia).\n",
    "        - Comparación estadistica entre los resultados de cada modelo.\n",
    "        - Selección del mejor modelo, justificandolo con los resultados de evaluación, con sus intervalos de confianza y prueba estadistica.\n",
    "        - Presentación final de los resultados.\n",
    "        - Análisis de cada modelo y el porque no fue seleccionado, pros y contras de cada modelo.\n",
    "    \n",
    "3. El notebook con una discusión DETALLADA del comportamiento de los modelos incluyendo los siguentes aspectos, pero no limitado a ellos:\n",
    "    * Discusion a fondo de los resultados, si hay un clasificador de varias clases, ¿En prueba se comporta igual para todas las clases? ¿Si no se comporta igual esto a que se debe? Asi con los demás puntos que ustedes quieran discutir.\n",
    "    * Discusión sobre que información pueden obtener a partir de los resultados que entrega el modelo. (¿que varaibles son más importantes? ¿Cuando funciona mejor/peor?, etc..)\n",
    "    * Discusión a fondo del comportamiento de los modelos encontrados, posibles fallas, posibles mejoras.\n",
    "    \n",
    "4. Una reflexión sobre lo aprendido del curso, ¿cubrio sus espectativas?, ¿Su visión de Inteligencia artificial cambió o se mantuvo igual?, ¿Qué le mejoraria al curso?, ¿Cual fue su tema favorito y menos favorito? y otros comentarios que deseen agregar.\n",
    "\n",
    "\n",
    "De los siguientes problemas a solucionar escoja uno:\n",
    "\n",
    "**Clasificación I: Wine Quality**, desarrolle un clasificador que permita identificar la calidad del vino. La información la puede encontrar aquí: [aquí.](https://archive.ics.uci.edu/ml/datasets/Wine+Quality)\n",
    "\n",
    "**Clasificación II: Bank Marketing**, desarrollar un sistema de clasificación para determinar si un cliente inscribira un deposito a término o no. La información la puede encontrar aquí: [aquí.](https://archive.ics.uci.edu/ml/datasets/Bank+Marketing)\n",
    "\n",
    "**Clasification III: Diferetiated Thyroid Cancer Recurrence**, desarrolar un modelo de clasificación que permita identificar que sujetos pueden presentar recurrencia de cancer de thyroides. La información la pueden encontrar aquí: [aquí.](https://archive.ics.uci.edu/dataset/915/differentiated+thyroid+cancer+recurrence)\n",
    "\n",
    "**Clasificación IV: CDC Diabetes Health Indicators**, desarrollar un modelo de clasificación para determinar si un paciente es saludable, pre-diabetico o si tiene diabetes. La información la pueden encontrar aquí: [aquí.](https://archive.ics.uci.edu/dataset/891/cdc+diabetes+health+indicators)\n",
    "\n",
    "\n",
    "**NOTA:** Si desean trabajar en otro problema que se encuentre en este repositorio me pueden indicar su interes y evaluamos si se puede desarrollar.\n",
    "\n",
    "\n",
    "**El proyecto se debe entregar el Viernes 22 de Noviembre, a más tardar las 11:59 p.m.**"
   ]
  },
  {
   "cell_type": "code",
   "execution_count": null,
   "metadata": {},
   "outputs": [],
   "source": []
  }
 ],
 "metadata": {
  "kernelspec": {
   "display_name": "Python 3 (ipykernel)",
   "language": "python",
   "name": "python3"
  },
  "language_info": {
   "codemirror_mode": {
    "name": "ipython",
    "version": 3
   },
   "file_extension": ".py",
   "mimetype": "text/x-python",
   "name": "python",
   "nbconvert_exporter": "python",
   "pygments_lexer": "ipython3",
   "version": "3.10.14"
  }
 },
 "nbformat": 4,
 "nbformat_minor": 4
}
